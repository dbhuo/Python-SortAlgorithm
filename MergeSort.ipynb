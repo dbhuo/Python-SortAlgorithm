{
 "cells": [
  {
   "cell_type": "code",
   "execution_count": 8,
   "metadata": {},
   "outputs": [
    {
     "name": "stdout",
     "output_type": "stream",
     "text": [
      "原始数据为： [1, 3, 5, 8, 7, 9, 6, 4, 0]\n",
      "排序后： [0, 1, 3, 4, 5, 6, 7, 8, 9]\n"
     ]
    }
   ],
   "source": [
    "def MergeSort(input_list):\n",
    "    \"\"\"\n",
    "    Params:\n",
    "        input_list - 待排序数组\n",
    "        length - 数组长度\n",
    "    Returns:\n",
    "        sorted_list - 排完序数组\n",
    "    \"\"\"\n",
    "    def Merge(input_list,left,middle,right,temp):\n",
    "        \"\"\"\n",
    "        Params:\n",
    "            input_list - 待治理数组\n",
    "            left - 数组左指针下届\n",
    "            middle - 数组中间划分部分\n",
    "            right - 数组右指针上界\n",
    "            temp - 零时数组，用于存储排序好的数据\n",
    "        Returns:\n",
    "            无\n",
    "        \"\"\"\n",
    "        i = left  #遍历分离后数组的左边部分\n",
    "        j = middle + 1  #遍历分离后数组右边部分\n",
    "        k = 0   #用于存储数据的下标\n",
    "        while i <= middle and j <= right:\n",
    "            if input_list[i] <= input_list[j]:  #如果数组左边的值小于等于数组数组右边的值\n",
    "                temp[k] = input_list[i]         #将该值存入新的数组\n",
    "                i += 1                          #左侧数组继续向右遍历\n",
    "            elif input_list[i] > input_list[j]: #如果数组右边的值小于数组数组左边的值\n",
    "                temp[k] = input_list[j]         #将该值存入新的数组\n",
    "                j += 1                          #右侧数组继续向右遍历\n",
    "            k += 1\n",
    "        while i <= middle:\n",
    "            temp[k] = input_list[i]             #如果左侧数组还没遍历完，继续遍历\n",
    "            i += 1  \n",
    "            k += 1\n",
    "        while j <= right:\n",
    "            temp[k] = input_list[j]             #如果右侧数组还没遍历完，继续遍历\n",
    "            j += 1\n",
    "            k += 1\n",
    "        k = 0\n",
    "        while left <= right:                    #将排序完的数组放回到原数组中\n",
    "            input_list[left] = temp[k]\n",
    "            left += 1\n",
    "            k += 1\n",
    "    def merge_sort(input_list,left,right,temp):\n",
    "        \"\"\"\n",
    "        分离数组\n",
    "        Params:\n",
    "            input_list - 待分离数组\n",
    "            left - 待分离数组左侧\n",
    "            right - 待分离数组右侧\n",
    "        Return:\n",
    "            无\n",
    "        \"\"\"\n",
    "        if left >= right:\n",
    "            return []\n",
    "        middle = (left + right)//2\n",
    "        merge_sort(input_list,left,middle,temp)\n",
    "        merge_sort(input_list,middle+1,right,temp)\n",
    "        Merge(input_list,left,middle,right,temp)\n",
    "    sorted_list = input_list\n",
    "    if len(sorted_list) == 0 :\n",
    "        return []\n",
    "    temp = [0] * len(sorted_list)\n",
    "    merge_sort(sorted_list,0,len(sorted_list)-1,temp)\n",
    "    return sorted_list\n",
    "if __name__ == \"__main__\":\n",
    "    input_list = [1,3,5,8,7,9,6,4,0]\n",
    "    print(\"原始数据为：\",input_list)\n",
    "    sorted_list = MergeSort(input_list)\n",
    "    print(\"排序后：\",sorted_list)"
   ]
  },
  {
   "cell_type": "code",
   "execution_count": null,
   "metadata": {},
   "outputs": [],
   "source": []
  }
 ],
 "metadata": {
  "kernelspec": {
   "display_name": "Python 3",
   "language": "python",
   "name": "python3"
  },
  "language_info": {
   "codemirror_mode": {
    "name": "ipython",
    "version": 3
   },
   "file_extension": ".py",
   "mimetype": "text/x-python",
   "name": "python",
   "nbconvert_exporter": "python",
   "pygments_lexer": "ipython3",
   "version": "3.7.3"
  }
 },
 "nbformat": 4,
 "nbformat_minor": 4
}
