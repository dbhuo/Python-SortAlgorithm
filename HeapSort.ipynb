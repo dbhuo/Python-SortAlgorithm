{
 "cells": [
  {
   "cell_type": "code",
   "execution_count": 37,
   "metadata": {},
   "outputs": [
    {
     "name": "stdout",
     "output_type": "stream",
     "text": [
      "原始数据为： [1, 3, 5, 8, 7, 9, 6, 4, 0]\n",
      "第1趟排序:[8, 7, 6, 4, 0, 5, 1, 3, 9]\n",
      "第2趟排序:[7, 4, 6, 3, 0, 5, 1, 8, 9]\n",
      "第3趟排序:[6, 4, 5, 3, 0, 1, 7, 8, 9]\n",
      "第4趟排序:[5, 4, 1, 3, 0, 6, 7, 8, 9]\n",
      "第5趟排序:[4, 3, 1, 0, 5, 6, 7, 8, 9]\n",
      "第6趟排序:[3, 0, 1, 4, 5, 6, 7, 8, 9]\n",
      "第7趟排序:[1, 0, 3, 4, 5, 6, 7, 8, 9]\n",
      "第8趟排序:[0, 1, 3, 4, 5, 6, 7, 8, 9]\n",
      "排序后： [0, 1, 3, 4, 5, 6, 7, 8, 9]\n"
     ]
    }
   ],
   "source": [
    "def HeapSort(input_list):\n",
    "    \"\"\"\n",
    "    param:\n",
    "        input_list - 待排序数组\n",
    "    Returns:\n",
    "        sorted_list - 升序排序好的列表\n",
    "    \"\"\"\n",
    "    def Heapify(input_list,parent,length):\n",
    "        \"\"\"\n",
    "        函数：调整大根堆，保证第一个和最后一个交换之后还可以保持大根堆的形状\n",
    "         Param:\n",
    "            input_list - 待调整的数组\n",
    "            parent - 父节点\n",
    "            length - 数组长度 \n",
    "         Returns :\n",
    "             调整好的数组\n",
    "         \"\"\"\n",
    "        temp = input_list[parent]\n",
    "        left = parent*2+1\n",
    "        while left < length:\n",
    "            if left + 1 < length and input_list[left] < input_list[left + 1]:\n",
    "                left = left + 1\n",
    "            if temp > input_list[left]:\n",
    "                break\n",
    "            input_list[parent] = input_list[left]\n",
    "            parent = left\n",
    "            left = left*2+1\n",
    "        input_list[parent] = temp\n",
    "    sorted_list = input_list\n",
    "    length = len(sorted_list)\n",
    "    if len(sorted_list) == 0:\n",
    "        return []\n",
    "    length = len(sorted_list)\n",
    "    for i in range(0, length // 2)[::-1]: #初始化堆，从后往前调整，保证初始堆是大根堆\n",
    "        Heapify(sorted_list, i, length)\n",
    " \n",
    "    for j in range(1, length)[::-1]: #又是从后往前进行调整，注意此处是从1开始遍历\n",
    "        temp = sorted_list[j]\n",
    "        sorted_list[j] = sorted_list[0]\n",
    "        sorted_list[0] = temp\n",
    " \n",
    "        Heapify(sorted_list, 0, j)\n",
    "        print('第%d趟排序:' % (length - j), end = '')\n",
    "        print(sorted_list)\n",
    "    return sorted_list\n",
    "if __name__ == \"__main__\":   \n",
    "    print(\"原始数据为：\",input_list)\n",
    "    sorted_list = HeapSort(input_list)\n",
    "    print(\"排序后：\",sorted_list)"
   ]
  },
  {
   "cell_type": "code",
   "execution_count": null,
   "metadata": {},
   "outputs": [],
   "source": []
  }
 ],
 "metadata": {
  "kernelspec": {
   "display_name": "Python 3",
   "language": "python",
   "name": "python3"
  },
  "language_info": {
   "codemirror_mode": {
    "name": "ipython",
    "version": 3
   },
   "file_extension": ".py",
   "mimetype": "text/x-python",
   "name": "python",
   "nbconvert_exporter": "python",
   "pygments_lexer": "ipython3",
   "version": "3.7.3"
  }
 },
 "nbformat": 4,
 "nbformat_minor": 4
}
