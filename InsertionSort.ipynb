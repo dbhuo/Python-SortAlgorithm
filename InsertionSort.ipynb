{
 "cells": [
  {
   "cell_type": "code",
   "execution_count": 4,
   "metadata": {},
   "outputs": [
    {
     "name": "stdout",
     "output_type": "stream",
     "text": [
      "原始数据为： [1, 8, 5, 6, 4, 0, 3, 7, 9]\n",
      "第1趟排序结果为：\n",
      "[1, 8, 5, 6, 4, 0, 3, 7, 9]\n",
      "第2趟排序结果为：\n",
      "[1, 5, 8, 6, 4, 0, 3, 7, 9]\n",
      "第3趟排序结果为：\n",
      "[1, 5, 6, 8, 4, 0, 3, 7, 9]\n",
      "第4趟排序结果为：\n",
      "[1, 4, 5, 6, 8, 0, 3, 7, 9]\n",
      "第5趟排序结果为：\n",
      "[0, 1, 4, 5, 6, 8, 3, 7, 9]\n",
      "第6趟排序结果为：\n",
      "[0, 1, 3, 4, 5, 6, 8, 7, 9]\n",
      "第7趟排序结果为：\n",
      "[0, 1, 3, 4, 5, 6, 7, 8, 9]\n",
      "第8趟排序结果为：\n",
      "[0, 1, 3, 4, 5, 6, 7, 8, 9]\n",
      "排序后： [0, 1, 3, 4, 5, 6, 7, 8, 9]\n"
     ]
    }
   ],
   "source": [
    "def InsertionSort(input_list):\n",
    "    \"\"\"\n",
    "    param:\n",
    "        input_list - 待排序数组\n",
    "    Returns:\n",
    "        sorted_list - 升序排序好的列表\n",
    "    \"\"\"\n",
    "    if len(input_list) == 0 :\n",
    "        return []\n",
    "    sorted_list = input_list\n",
    "    for i in range(1,len(sorted_list)):\n",
    "        print(\"第%d趟排序结果为：\"%(i))\n",
    "        temp = sorted_list[i]\n",
    "        j = i-1\n",
    "        while(j>=0 and sorted_list[j] > temp):\n",
    "            sorted_list[j+1] = sorted_list[j]\n",
    "            j = j-1\n",
    "        sorted_list[j+1] = temp\n",
    "        print(sorted_list)\n",
    "    return sorted_list\n",
    "if __name__ == \"__main__\":\n",
    "    input_list = [1,8,5,6,4,0,3,7,9]\n",
    "    print(\"原始数据为：\",input_list)\n",
    "    sorted_list = InsertionSort(input_list)\n",
    "    print(\"排序后：\",sorted_list)\n",
    "        "
   ]
  },
  {
   "cell_type": "markdown",
   "metadata": {},
   "source": [
    "### 优化版本:添加二分查找在前面已经排好序的数组中"
   ]
  },
  {
   "cell_type": "code",
   "execution_count": 10,
   "metadata": {},
   "outputs": [
    {
     "name": "stdout",
     "output_type": "stream",
     "text": [
      "原始数据为： [1, 8, 5, 6, 4, 0, 3, 7, 9]\n",
      "第0趟排序结果为：\n",
      "[1, 8, 5, 6, 4, 0, 3, 7, 9]\n",
      "第1趟排序结果为：\n",
      "[1, 8, 5, 6, 4, 0, 3, 7, 9]\n",
      "第2趟排序结果为：\n",
      "[1, 5, 8, 6, 4, 0, 3, 7, 9]\n",
      "第3趟排序结果为：\n",
      "[1, 5, 6, 8, 4, 0, 3, 7, 9]\n",
      "第4趟排序结果为：\n",
      "[1, 4, 5, 6, 8, 0, 3, 7, 9]\n",
      "第5趟排序结果为：\n",
      "[0, 1, 4, 5, 6, 8, 3, 7, 9]\n",
      "第6趟排序结果为：\n",
      "[0, 1, 3, 4, 5, 6, 8, 7, 9]\n",
      "第7趟排序结果为：\n",
      "[0, 1, 3, 4, 5, 6, 7, 8, 9]\n",
      "第8趟排序结果为：\n",
      "[0, 1, 3, 4, 5, 6, 7, 8, 9]\n",
      "排序后： [0, 1, 3, 4, 5, 6, 7, 8, 9]\n"
     ]
    }
   ],
   "source": [
    "def BinarySerch(arr,end,value):\n",
    "    \"\"\"\n",
    "    parms:\n",
    "    arr - 待查找数组\n",
    "    end - 数组长度\n",
    "    value - 想查找的值\n",
    "    return :\n",
    "    数组中第一个大于value的下标 // 以保证稳定性\n",
    "    \"\"\"\n",
    "    left = 0 \n",
    "    right = end - 1\n",
    "    while left <= right:\n",
    "        middle = left + (right - left) // 2\n",
    "        if arr[middle] > value:\n",
    "            right = middle - 1\n",
    "        else:\n",
    "            left = middle + 1\n",
    "    if left < end:\n",
    "        return left\n",
    "    else:\n",
    "        return -1\n",
    "def BinaryInsertSort(input_list):\n",
    "    \"\"\"\n",
    "    param:\n",
    "        input_list - 待排序数组\n",
    "    Returns:\n",
    "        sorted_list - 升序排序好的列表\n",
    "    \"\"\"\n",
    "    if len(input_list) == 0 :\n",
    "        return []\n",
    "    sorted_list = input_list\n",
    "    for i in range(len(sorted_list)):\n",
    "        print(\"第%d趟排序结果为：\"%(i))\n",
    "        j = i - 1\n",
    "        temp = sorted_list[i]\n",
    "        inser_index = BinarySerch(sorted_list,i,sorted_list[i])\n",
    "        if inser_index != -1: \n",
    "            while j >= inser_index:\n",
    "                sorted_list[j+1] = sorted_list[j]\n",
    "                j = j - 1\n",
    "            sorted_list[j+1] = temp\n",
    "        print(sorted_list)\n",
    "    return sorted_list     \n",
    "if __name__ == '__main__':\n",
    "    input_list = [1,8,5,6,4,0,3,7,9]\n",
    "    print(\"原始数据为：\",input_list)\n",
    "    sorted_list = BinaryInsertSort(input_list)\n",
    "    print(\"排序后：\",sorted_list)"
   ]
  },
  {
   "cell_type": "code",
   "execution_count": null,
   "metadata": {},
   "outputs": [],
   "source": []
  }
 ],
 "metadata": {
  "kernelspec": {
   "display_name": "Python 3",
   "language": "python",
   "name": "python3"
  },
  "language_info": {
   "codemirror_mode": {
    "name": "ipython",
    "version": 3
   },
   "file_extension": ".py",
   "mimetype": "text/x-python",
   "name": "python",
   "nbconvert_exporter": "python",
   "pygments_lexer": "ipython3",
   "version": "3.7.3"
  }
 },
 "nbformat": 4,
 "nbformat_minor": 4
}
