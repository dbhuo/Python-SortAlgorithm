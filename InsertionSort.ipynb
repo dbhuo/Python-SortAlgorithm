{
 "cells": [
  {
   "cell_type": "code",
   "execution_count": 9,
   "metadata": {},
   "outputs": [
    {
     "name": "stdout",
     "output_type": "stream",
     "text": [
      "原始数据为： [1, 3, 5, 8, 7, 9, 6, 4, 0]\n",
      "第1趟排序结果为：\n",
      "[0, 3, 5, 8, 7, 9, 6, 4, 1]\n",
      "第2趟排序结果为：\n",
      "[0, 1, 5, 8, 7, 9, 6, 4, 3]\n",
      "第3趟排序结果为：\n",
      "[0, 1, 3, 8, 7, 9, 6, 4, 5]\n",
      "第4趟排序结果为：\n",
      "[0, 1, 3, 4, 7, 9, 6, 8, 5]\n",
      "第5趟排序结果为：\n",
      "[0, 1, 3, 4, 5, 9, 6, 8, 7]\n",
      "第6趟排序结果为：\n",
      "[0, 1, 3, 4, 5, 6, 9, 8, 7]\n",
      "第7趟排序结果为：\n",
      "[0, 1, 3, 4, 5, 6, 7, 8, 9]\n",
      "第8趟排序结果为：\n",
      "排序完成!\n",
      "排序后： [0, 1, 3, 4, 5, 6, 7, 8, 9]\n"
     ]
    }
   ],
   "source": [
    "def SelectSort(input_list):\n",
    "    \"\"\"\n",
    "    param:\n",
    "        input_list - 待排序数组\n",
    "    Returns:\n",
    "        sorted_list - 升序排序好的列表\n",
    "    \"\"\"\n",
    "    if len(input_list) == 0:\n",
    "        return []\n",
    "    sorted_list = input_list\n",
    "    for i in range(len(sorted_list)):\n",
    "        temp = i\n",
    "        print(\"第%d趟排序结果为：\"%(i+1))\n",
    "        for j in range(i+1,len(sorted_list)):\n",
    "            if sorted_list[j] < sorted_list[temp]:\n",
    "                temp = j\n",
    "        if temp != i:\n",
    "            sorted_list[i],sorted_list[temp] = sorted_list[temp],sorted_list[i]\n",
    "        else:\n",
    "            print(\"排序完成!\")\n",
    "            break\n",
    "        print(sorted_list)   \n",
    "    return sorted_list\n",
    "if __name__ == \"__main__\":\n",
    "    input_list = [1,3,5,8,7,9,6,4,0]\n",
    "    print(\"原始数据为：\",input_list)\n",
    "    sorted_list = SelectSort(input_list)\n",
    "    print(\"排序后：\",sorted_list)\n"
   ]
  },
  {
   "cell_type": "code",
   "execution_count": null,
   "metadata": {},
   "outputs": [],
   "source": []
  }
 ],
 "metadata": {
  "kernelspec": {
   "display_name": "Python 3",
   "language": "python",
   "name": "python3"
  },
  "language_info": {
   "codemirror_mode": {
    "name": "ipython",
    "version": 3
   },
   "file_extension": ".py",
   "mimetype": "text/x-python",
   "name": "python",
   "nbconvert_exporter": "python",
   "pygments_lexer": "ipython3",
   "version": "3.7.3"
  }
 },
 "nbformat": 4,
 "nbformat_minor": 4
}
