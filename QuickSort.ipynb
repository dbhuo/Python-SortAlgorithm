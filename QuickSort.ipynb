{
 "cells": [
  {
   "cell_type": "code",
   "execution_count": 9,
   "metadata": {},
   "outputs": [
    {
     "name": "stdout",
     "output_type": "stream",
     "text": [
      "原始数据为： [1, 3, 5, 8, 7, 9, 6, 4, 0]\n",
      "[0, 1, 5, 8, 7, 9, 6, 4, 3]\n",
      "[0, 1, 3, 4, 5, 9, 6, 7, 8]\n",
      "[0, 1, 3, 4, 5, 9, 6, 7, 8]\n",
      "[0, 1, 3, 4, 5, 8, 6, 7, 9]\n",
      "[0, 1, 3, 4, 5, 7, 6, 8, 9]\n",
      "[0, 1, 3, 4, 5, 6, 7, 8, 9]\n",
      "排序后： [0, 1, 3, 4, 5, 6, 7, 8, 9]\n"
     ]
    }
   ],
   "source": [
    "def QuickSort(input_list,left,right):\n",
    "    \"\"\"\n",
    "    Params:\n",
    "        input_list - 待排序数组\n",
    "        left -  待排序数组左指针位置\n",
    "        right - 待排序数组右指针位置\n",
    "    Returns:\n",
    "        无\n",
    "    \"\"\"\n",
    "    def divide(input_list,left,right):\n",
    "        \"\"\"\n",
    "        目的：确定一个基值，保证左边的值都小于它，并且右边的值都大于它\n",
    "        Params:\n",
    "            input_list - 待排序数组\n",
    "            left -  左指针位置\n",
    "            right - 右指针位置\n",
    "        Return:\n",
    "            left - 新基准的位置\n",
    "        \"\"\"\n",
    "        base = input_list[left] #以数组中第一个值为基准，大于该值的元素放在该元素右边，小于该元素该元素放在左边\n",
    "        while left < right:     #保证数组不越界\n",
    "            while left < right and input_list[right] >= base: \n",
    "                right -= 1      #从右边第一个开始数起，如果比基值大的话，指针左移，直到遇到比基值小的值为止\n",
    "            input_list[left] = input_list[right] #替换左值为刚刚比基址小的值，保证基值左测比基值小\n",
    "            while left < right and input_list[left] <= base:\n",
    "                left += 1       #从左边第一个开始数起，如果比基值小的话，指针右移，直到遇到比基值大的值为止\n",
    "            input_list[right] = input_list[left] #替换右值为刚刚比基址大的值，保证基值右测比基值大\n",
    "        input_list[left] = base #确定好基址的位置\n",
    "        return left\n",
    "    if len(input_list) == 0:\n",
    "        return []\n",
    "    if left < right:\n",
    "        base = divide(input_list,left,right) #确定好第一个基值\n",
    "        print(input_list)                    #输出每次排序后的结果\n",
    "        QuickSort(input_list,left,base-1)    #以第一个基值为准，左右递归处理两侧数组\n",
    "        QuickSort(input_list,base+1,right)\n",
    "if __name__ == \"__main__\":\n",
    "    input_list = [1,3,5,8,7,9,6,4,0]\n",
    "    print(\"原始数据为：\",input_list)\n",
    "    QuickSort(input_list,0,len(input_list) - 1)\n",
    "    print(\"排序后：\",input_list)"
   ]
  },
  {
   "cell_type": "code",
   "execution_count": null,
   "metadata": {},
   "outputs": [],
   "source": []
  }
 ],
 "metadata": {
  "kernelspec": {
   "display_name": "Python 3",
   "language": "python",
   "name": "python3"
  },
  "language_info": {
   "codemirror_mode": {
    "name": "ipython",
    "version": 3
   },
   "file_extension": ".py",
   "mimetype": "text/x-python",
   "name": "python",
   "nbconvert_exporter": "python",
   "pygments_lexer": "ipython3",
   "version": "3.7.3"
  }
 },
 "nbformat": 4,
 "nbformat_minor": 4
}
